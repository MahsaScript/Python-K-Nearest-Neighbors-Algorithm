{
  "nbformat": 4,
  "nbformat_minor": 0,
  "metadata": {
    "colab": {
      "name": "KNN_Classification.ipynb",
      "provenance": [],
      "collapsed_sections": []
    },
    "kernelspec": {
      "name": "python3",
      "display_name": "Python 3"
    },
    "language_info": {
      "name": "python"
    }
  },
  "cells": [
    {
      "cell_type": "code",
      "source": [
        "import math\n",
        "import numpy as np\n",
        "import matplotlib.pyplot as plt\n",
        "\n",
        "p = 3.14\n",
        "sigma = 0.2\n",
        "mu1=[1, 1]\n",
        "mu2=[1.5, 1.5]\n",
        "\n",
        "mu1T = (np.array(mu1)).transpose()\n",
        "mu2T = (np.array(mu2)).transpose()\n",
        "\n",
        "\n",
        "mu1 = np.array(mu1)\n",
        "mu2 = np.array(mu2)\n",
        "\n",
        "mu1T = np.array(mu1T)\n",
        "mu2T = np.array(mu2T)\n",
        "\n",
        "n = -1/(2*sigma)\n",
        "        \n",
        "X_train = []\n",
        "y_train = []\n",
        "\n",
        "for x in range(50):\n",
        "  operand1 = np.multiply(np.array(x-mu1T),n)\n",
        "  operand2 = np.multiply(np.array(x-mu1),operand1)\n",
        "  w1 = (1/(2*p*sigma)) * np.exp(operand2)\n",
        "  X_train.append(w1)\n",
        "\n",
        "for x in range(50):\n",
        "  operand11 = np.multiply(np.array(x-mu2T),n)\n",
        "  operand22 = np.multiply(np.array(x-mu2),operand11)\n",
        "  w2 = (1/(2*p*sigma)) * np.exp(operand22)\n",
        "  y_train.append(w2)\n",
        "\n",
        "\n",
        "X_test = []\n",
        "y_test = []\n",
        "for x in range(100):\n",
        "  operand1a = np.multiply(np.array(x-mu1T),n)\n",
        "  operand2a = np.multiply(np.array(x-mu1),operand1a)\n",
        "  w1 = (1/(2*p*sigma)) * np.exp(operand2a)\n",
        "  X_test.append(w1)\n",
        "  \n",
        "for x in range(100):\n",
        "  operand11a = np.multiply(np.array(x-mu2T),n)\n",
        "  operand22a = np.multiply(np.array(x-mu2),operand11a)\n",
        "  w2 = (1/(2*p*sigma)) * np.exp(operand22a)\n",
        "  y_test.append(w2)\n",
        "\n",
        "\n"
      ],
      "metadata": {
        "id": "wdFslgN7ucjX"
      },
      "execution_count": 83,
      "outputs": []
    },
    {
      "cell_type": "markdown",
      "source": [
        "#Normalize - Standardize Dataset"
      ],
      "metadata": {
        "id": "F4HqfyakCO7D"
      }
    },
    {
      "cell_type": "code",
      "source": [
        "from sklearn.preprocessing import StandardScaler\n",
        "sc = StandardScaler()\n",
        "X_train = sc.fit_transform(X_train)\n",
        "X_test = sc.transform(X_test)"
      ],
      "metadata": {
        "id": "3541HFTpqrku"
      },
      "execution_count": 84,
      "outputs": []
    },
    {
      "cell_type": "markdown",
      "source": [
        "#KNN Classifier - K = 1"
      ],
      "metadata": {
        "id": "joR6Pz1oCFxV"
      }
    },
    {
      "cell_type": "code",
      "source": [
        "from sklearn.neighbors import KNeighborsRegressor\n",
        "knn = KNeighborsRegressor(n_neighbors=1)\n",
        "model = knn.fit(X_train, y_train)\n",
        "pred_y = knn.predict(X_test)\n",
        "error_rate = np.mean(pred_y != y_test)\n",
        "print('error_rate: ', error_rate)\n"
      ],
      "metadata": {
        "colab": {
          "base_uri": "https://localhost:8080/"
        },
        "id": "Lmu8YyeqSYUV",
        "outputId": "6dfaee75-aede-41a3-e869-bcddfeab3efb"
      },
      "execution_count": 88,
      "outputs": [
        {
          "output_type": "stream",
          "name": "stdout",
          "text": [
            "error_rate:  0.94\n"
          ]
        }
      ]
    },
    {
      "cell_type": "markdown",
      "source": [
        "#KNN Classifier - K = 3"
      ],
      "metadata": {
        "id": "0XiHXRDcTTZ4"
      }
    },
    {
      "cell_type": "code",
      "source": [
        "from sklearn.neighbors import KNeighborsRegressor\n",
        "knn = KNeighborsRegressor(n_neighbors=3)\n",
        "model = knn.fit(X_train, y_train)\n",
        "pred_y = knn.predict(X_test)\n",
        "error_rate = np.mean(pred_y != y_test)\n",
        "print('error_rate: ', error_rate)"
      ],
      "metadata": {
        "colab": {
          "base_uri": "https://localhost:8080/"
        },
        "id": "KNPInt4KTQYz",
        "outputId": "d3ae1486-57a0-41af-ae22-507707857996"
      },
      "execution_count": 89,
      "outputs": [
        {
          "output_type": "stream",
          "name": "stdout",
          "text": [
            "error_rate:  1.0\n"
          ]
        }
      ]
    }
  ]
}